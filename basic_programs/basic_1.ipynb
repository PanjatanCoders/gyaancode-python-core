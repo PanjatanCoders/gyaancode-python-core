{
 "cells": [
  {
   "cell_type": "markdown",
   "id": "c3a8b557",
   "metadata": {},
   "source": [
    "## Basic Python Programs"
   ]
  },
  {
   "cell_type": "markdown",
   "id": "bf8eff41",
   "metadata": {},
   "source": [
    "Q1. Write a python program to print \"Hello World!\""
   ]
  },
  {
   "cell_type": "code",
   "execution_count": 1,
   "id": "3cdd7c29",
   "metadata": {},
   "outputs": [
    {
     "name": "stdout",
     "output_type": "stream",
     "text": [
      "Hello World!\n"
     ]
    }
   ],
   "source": [
    "print('Hello World!')"
   ]
  },
  {
   "cell_type": "markdown",
   "id": "46e47235",
   "metadata": {},
   "source": [
    "Q2. Write python programs to calculate basic math operations."
   ]
  },
  {
   "cell_type": "code",
   "execution_count": 2,
   "id": "260c20fa",
   "metadata": {},
   "outputs": [
    {
     "name": "stdout",
     "output_type": "stream",
     "text": [
      "Sum:  28\n",
      "Subtraction:  18\n",
      "Multiplication:  115\n"
     ]
    }
   ],
   "source": [
    "a = 23\n",
    "b = 5\n",
    "\n",
    "print(\"Sum: \", a + b)\n",
    "print(\"Subtraction: \", a - b)\n",
    "print(\"Multiplication: \", a * b)"
   ]
  },
  {
   "cell_type": "markdown",
   "id": "dcb76898",
   "metadata": {},
   "source": [
    "**NB: There are two thing when we talk about division operation.**\n",
    "- Quotient(use '/' operator)\n",
    "- Remainder(use '%' operator)"
   ]
  },
  {
   "cell_type": "code",
   "execution_count": 3,
   "id": "66761f41",
   "metadata": {},
   "outputs": [
    {
     "name": "stdout",
     "output_type": "stream",
     "text": [
      "Division quotient result:  4.6\n",
      "Division remainder:  3\n"
     ]
    }
   ],
   "source": [
    "print(\"Division quotient result: \", a / b)\n",
    "print(\"Division remainder: \", a % b)"
   ]
  },
  {
   "cell_type": "markdown",
   "id": "3088d59f",
   "metadata": {},
   "source": [
    "### Understanding Ceil, floor Value in Python\n",
    "- ceil(x): Returns the smallest integer greater than or equal to x\n",
    "- floor(x) Returns the largest integer less than or equal to x"
   ]
  },
  {
   "cell_type": "code",
   "execution_count": 4,
   "id": "7279c4b4",
   "metadata": {},
   "outputs": [
    {
     "name": "stdout",
     "output_type": "stream",
     "text": [
      "Ceil value:  6\n",
      "Floor value:  5\n"
     ]
    }
   ],
   "source": [
    "from math import ceil, floor\n",
    "\n",
    "\n",
    "x = 5.23\n",
    "print(\"Ceil value: \", ceil(x))\n",
    "print(\"Floor value: \", floor(x))"
   ]
  },
  {
   "cell_type": "markdown",
   "id": "dcf4df8e",
   "metadata": {},
   "source": [
    "- abs(x): Returns the absolute value of x\n",
    "- pow(x, y): Returns x raised to the power y (same as x ** y)\n",
    "- sqrt(x): Returns the square root of x\n",
    "- round(x): Rounds x to the nearest integer\n",
    "- max(a, b, ...): Returns the largest value among the arguments\n",
    "- min(a, b, ...): Returns the smallest value among the arguments"
   ]
  },
  {
   "cell_type": "code",
   "execution_count": 5,
   "id": "70b6ffd1",
   "metadata": {},
   "outputs": [
    {
     "name": "stdout",
     "output_type": "stream",
     "text": [
      "Abs:  5.23\n",
      "pow:  64\n",
      "sqrt:  5.0\n",
      "round:  10\n",
      "max:  54\n",
      "min:  9\n"
     ]
    }
   ],
   "source": [
    "import math\n",
    "from math import sqrt\n",
    "\n",
    "print(\"Abs: \", abs(x))\n",
    "print(\"pow: \", pow(4, 3))\n",
    "print(\"sqrt: \", sqrt(25))\n",
    "print(\"round: \", round(10.23))\n",
    "print(\"max: \", max(12, 34, 43, 13, 9, 54, 23))\n",
    "print(\"min: \", min(12, 34, 43, 13, 9, 54, 23))"
   ]
  },
  {
   "cell_type": "markdown",
   "id": "c75311ba",
   "metadata": {},
   "source": [
    "Q3. Write a Python Program To calculate the area of a circle"
   ]
  },
  {
   "cell_type": "code",
   "execution_count": 6,
   "id": "0fd4f636",
   "metadata": {},
   "outputs": [
    {
     "name": "stdout",
     "output_type": "stream",
     "text": [
      "Area of the circle:  314.1592653589793\n"
     ]
    }
   ],
   "source": [
    "from math import pi\n",
    "\n",
    "radius = 10\n",
    "area = pi * (radius**2) #Using formula: 𝜋⋅𝑟2\n",
    "\n",
    "print(\"Area of the circle: \", area)"
   ]
  },
  {
   "cell_type": "markdown",
   "id": "281c6ec0",
   "metadata": {},
   "source": [
    "Q4. Write a python program to swap to variables"
   ]
  },
  {
   "cell_type": "code",
   "execution_count": 7,
   "id": "610418c7",
   "metadata": {},
   "outputs": [
    {
     "name": "stdout",
     "output_type": "stream",
     "text": [
      "a:  7\n",
      "b:  4\n"
     ]
    }
   ],
   "source": [
    "a, b = 4, 7\n",
    "# taking help of a temp variable\n",
    "temp = a\n",
    "a = b\n",
    "b = temp\n",
    "\n",
    "print(\"a: \", a)\n",
    "print(\"b: \", b)"
   ]
  },
  {
   "cell_type": "code",
   "execution_count": 8,
   "id": "db027cce",
   "metadata": {},
   "outputs": [
    {
     "name": "stdout",
     "output_type": "stream",
     "text": [
      "a:  7\n",
      "b:  4\n"
     ]
    }
   ],
   "source": [
    "a, b = 4, 7\n",
    "# without a temp variable\n",
    "a = a + b\n",
    "b = a - b\n",
    "a = a - b\n",
    "\n",
    "print(\"a: \", a)\n",
    "print(\"b: \", b)"
   ]
  },
  {
   "cell_type": "markdown",
   "id": "c49251d7",
   "metadata": {},
   "source": [
    "Q5. Write a python program to generate a random number."
   ]
  },
  {
   "cell_type": "code",
   "execution_count": 9,
   "id": "67ae004c",
   "metadata": {},
   "outputs": [
    {
     "name": "stdout",
     "output_type": "stream",
     "text": [
      "Random Number: 84\n"
     ]
    }
   ],
   "source": [
    "# random module is the in python for this work\n",
    "import random\n",
    "\n",
    "num = random.randint(1, 1000) #it will generate random number in between 1 - 1000\n",
    "print(\"Random Number:\", num)"
   ]
  }
 ],
 "metadata": {
  "kernelspec": {
   "display_name": "Python 3",
   "language": "python",
   "name": "python3"
  },
  "language_info": {
   "codemirror_mode": {
    "name": "ipython",
    "version": 3
   },
   "file_extension": ".py",
   "mimetype": "text/x-python",
   "name": "python",
   "nbconvert_exporter": "python",
   "pygments_lexer": "ipython3",
   "version": "3.13.3"
  }
 },
 "nbformat": 4,
 "nbformat_minor": 5
}
