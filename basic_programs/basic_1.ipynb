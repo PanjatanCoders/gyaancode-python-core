{
 "cells": [
  {
   "cell_type": "markdown",
   "id": "c3a8b557",
   "metadata": {},
   "source": [
    "## Basic Python Programs"
   ]
  },
  {
   "cell_type": "markdown",
   "id": "bf8eff41",
   "metadata": {},
   "source": [
    "Q1. Write a python program to print \"Hello World!\""
   ]
  },
  {
   "cell_type": "code",
   "execution_count": 1,
   "id": "3cdd7c29",
   "metadata": {},
   "outputs": [
    {
     "name": "stdout",
     "output_type": "stream",
     "text": [
      "Hello World!\n"
     ]
    }
   ],
   "source": [
    "print('Hello World!')"
   ]
  },
  {
   "cell_type": "markdown",
   "id": "46e47235",
   "metadata": {},
   "source": [
    "Q2. Write python programs to calculate basic math operations."
   ]
  },
  {
   "cell_type": "code",
   "execution_count": 2,
   "id": "260c20fa",
   "metadata": {},
   "outputs": [
    {
     "name": "stdout",
     "output_type": "stream",
     "text": [
      "Sum:  28\n",
      "Subtraction:  18\n",
      "Multiplication:  115\n"
     ]
    }
   ],
   "source": [
    "a = 23\n",
    "b = 5\n",
    "\n",
    "print(\"Sum: \", a + b)\n",
    "print(\"Subtraction: \", a - b)\n",
    "print(\"Multiplication: \", a * b)"
   ]
  },
  {
   "cell_type": "markdown",
   "id": "dcb76898",
   "metadata": {},
   "source": [
    "**NB: There are two thing when we talk about division operation.**\n",
    "- Quotient(use '/' operator)\n",
    "- Remainder(use '%' operator)"
   ]
  },
  {
   "cell_type": "code",
   "execution_count": 3,
   "id": "66761f41",
   "metadata": {},
   "outputs": [
    {
     "name": "stdout",
     "output_type": "stream",
     "text": [
      "Division quotient result:  4.6\n",
      "Division remainder:  3\n"
     ]
    }
   ],
   "source": [
    "print(\"Division quotient result: \", a / b)\n",
    "print(\"Division remainder: \", a % b)"
   ]
  },
  {
   "cell_type": "markdown",
   "id": "3088d59f",
   "metadata": {},
   "source": [
    "### Understanding Ceil, floor Value in Python\n",
    "- ceil(x): Returns the smallest integer greater than or equal to x\n",
    "- floor(x) Returns the largest integer less than or equal to x"
   ]
  },
  {
   "cell_type": "code",
   "execution_count": 4,
   "id": "7279c4b4",
   "metadata": {},
   "outputs": [
    {
     "name": "stdout",
     "output_type": "stream",
     "text": [
      "Ceil value:  6\n",
      "Floor value:  5\n"
     ]
    }
   ],
   "source": [
    "from math import ceil, floor\n",
    "\n",
    "\n",
    "x = 5.23\n",
    "print(\"Ceil value: \", ceil(x))\n",
    "print(\"Floor value: \", floor(x))"
   ]
  },
  {
   "cell_type": "markdown",
   "id": "dcf4df8e",
   "metadata": {},
   "source": [
    "- abs(x): Returns the absolute value of x\n",
    "- pow(x, y): Returns x raised to the power y (same as x ** y)\n",
    "- sqrt(x): Returns the square root of x\n",
    "- round(x): Rounds x to the nearest integer\n",
    "- max(a, b, ...): Returns the largest value among the arguments\n",
    "- min(a, b, ...): Returns the smallest value among the arguments"
   ]
  },
  {
   "cell_type": "code",
   "execution_count": 5,
   "id": "70b6ffd1",
   "metadata": {},
   "outputs": [
    {
     "name": "stdout",
     "output_type": "stream",
     "text": [
      "Abs:  5.23\n",
      "pow:  64\n",
      "sqrt:  5.0\n",
      "round:  10\n",
      "max:  54\n",
      "min:  9\n"
     ]
    }
   ],
   "source": [
    "import math\n",
    "from math import sqrt\n",
    "\n",
    "print(\"Abs: \", abs(x))\n",
    "print(\"pow: \", pow(4, 3))\n",
    "print(\"sqrt: \", sqrt(25))\n",
    "print(\"round: \", round(10.23))\n",
    "print(\"max: \", max(12, 34, 43, 13, 9, 54, 23))\n",
    "print(\"min: \", min(12, 34, 43, 13, 9, 54, 23))"
   ]
  },
  {
   "cell_type": "markdown",
   "id": "c75311ba",
   "metadata": {},
   "source": [
    "Q3. Write a Python Program To calculate the area of a circle"
   ]
  },
  {
   "cell_type": "code",
   "execution_count": 6,
   "id": "0fd4f636",
   "metadata": {},
   "outputs": [
    {
     "name": "stdout",
     "output_type": "stream",
     "text": [
      "Area of the circle:  314.1592653589793\n"
     ]
    }
   ],
   "source": [
    "from math import pi\n",
    "\n",
    "radius = 10\n",
    "area = pi * (radius**2) #Using formula: 𝜋⋅𝑟2\n",
    "\n",
    "print(\"Area of the circle: \", area)"
   ]
  },
  {
   "cell_type": "markdown",
   "id": "281c6ec0",
   "metadata": {},
   "source": [
    "Q4. Write a python program to swap to variables"
   ]
  },
  {
   "cell_type": "code",
   "execution_count": 7,
   "id": "610418c7",
   "metadata": {},
   "outputs": [
    {
     "name": "stdout",
     "output_type": "stream",
     "text": [
      "a:  7\n",
      "b:  4\n"
     ]
    }
   ],
   "source": [
    "a, b = 4, 7\n",
    "# taking help of a temp variable\n",
    "temp = a\n",
    "a = b\n",
    "b = temp\n",
    "\n",
    "print(\"a: \", a)\n",
    "print(\"b: \", b)"
   ]
  },
  {
   "cell_type": "code",
   "execution_count": 8,
   "id": "db027cce",
   "metadata": {},
   "outputs": [
    {
     "name": "stdout",
     "output_type": "stream",
     "text": [
      "a:  7\n",
      "b:  4\n"
     ]
    }
   ],
   "source": [
    "a, b = 4, 7\n",
    "# without a temp variable\n",
    "a = a + b\n",
    "b = a - b\n",
    "a = a - b\n",
    "\n",
    "print(\"a: \", a)\n",
    "print(\"b: \", b)"
   ]
  },
  {
   "cell_type": "code",
   "execution_count": 9,
   "id": "d5eb9f5b",
   "metadata": {},
   "outputs": [
    {
     "name": "stdout",
     "output_type": "stream",
     "text": [
      "a, b:  7 4\n"
     ]
    }
   ],
   "source": [
    "#even more simple\n",
    "a, b = 4, 7\n",
    "a, b = b, a\n",
    "print(\"a, b: \", a, b)"
   ]
  },
  {
   "cell_type": "markdown",
   "id": "c49251d7",
   "metadata": {},
   "source": [
    "Q5. Write a python program to generate a random number."
   ]
  },
  {
   "cell_type": "code",
   "execution_count": 10,
   "id": "67ae004c",
   "metadata": {},
   "outputs": [
    {
     "name": "stdout",
     "output_type": "stream",
     "text": [
      "Random Number: 54\n"
     ]
    }
   ],
   "source": [
    "# random module is the in python for this work\n",
    "import random\n",
    "\n",
    "num = random.randint(1, 1000) #it will generate random number in between 1 - 1000\n",
    "print(\"Random Number:\", num)"
   ]
  },
  {
   "cell_type": "markdown",
   "id": "918d2bc0",
   "metadata": {},
   "source": [
    "Q6. Write a python program to convert kilometer to miles."
   ]
  },
  {
   "cell_type": "code",
   "execution_count": 11,
   "id": "dd305b08",
   "metadata": {},
   "outputs": [
    {
     "name": "stdout",
     "output_type": "stream",
     "text": [
      "10KM in Miles =   6.21371\n"
     ]
    }
   ],
   "source": [
    "x = 10 #10km\n",
    "# we know 1km = 0.621371 miles\n",
    "\n",
    "result = 10 * 0.621371\n",
    "\n",
    "print(\"10KM in Miles =  \", result)"
   ]
  },
  {
   "cell_type": "markdown",
   "id": "9fe89838",
   "metadata": {},
   "source": [
    "Q7. Write a python program to convert celcius to farenhite.\n",
    "\n",
    "- formula: fahrenheit = (celsius * 9/5) + 32"
   ]
  },
  {
   "cell_type": "code",
   "execution_count": 12,
   "id": "17bee3fa",
   "metadata": {},
   "outputs": [
    {
     "name": "stdout",
     "output_type": "stream",
     "text": [
      "Farenhite value of 100 degree celcius is:  212.0\n"
     ]
    }
   ],
   "source": [
    "celsius = 100\n",
    "farenhite = (celsius * 9/5) + 32\n",
    "\n",
    "print(\"Farenhite value of 100 degree celcius is: \", farenhite)"
   ]
  },
  {
   "cell_type": "markdown",
   "id": "a2c0dfa3",
   "metadata": {},
   "source": [
    "Q8. Write a python program to display a calendar"
   ]
  },
  {
   "cell_type": "code",
   "execution_count": 13,
   "id": "7e8e4de8",
   "metadata": {},
   "outputs": [
    {
     "name": "stdout",
     "output_type": "stream",
     "text": [
      "Calender month of Oct, 2025 is:      October 2025\n",
      "Mo Tu We Th Fr Sa Su\n",
      "       1  2  3  4  5\n",
      " 6  7  8  9 10 11 12\n",
      "13 14 15 16 17 18 19\n",
      "20 21 22 23 24 25 26\n",
      "27 28 29 30 31\n",
      "\n"
     ]
    }
   ],
   "source": [
    "import calendar\n",
    "\n",
    "cal = calendar.month(2025, 10)\n",
    "print(\"Calender month of Oct, 2025 is: \", cal)"
   ]
  },
  {
   "cell_type": "markdown",
   "id": "322c3be8",
   "metadata": {},
   "source": [
    "## Understand input() in Python\n",
    "- to get input dorectly from user using command prompt use input()\n",
    "- it always returns data to you program in String format\n",
    "- if you need data in different format use type casting"
   ]
  },
  {
   "cell_type": "code",
   "execution_count": 14,
   "id": "e30cabf8",
   "metadata": {},
   "outputs": [
    {
     "name": "stdout",
     "output_type": "stream",
     "text": [
      "Saddam <class 'str'>\n",
      "7 <class 'str'>\n"
     ]
    }
   ],
   "source": [
    "data = input(\"Enter your name: \")\n",
    "print(data, type(data))\n",
    "\n",
    "num = input(\"Enter a number: \")\n",
    "print(num, type(num))"
   ]
  },
  {
   "cell_type": "code",
   "execution_count": 15,
   "id": "16ed2320",
   "metadata": {},
   "outputs": [
    {
     "name": "stdout",
     "output_type": "stream",
     "text": [
      "11 <class 'int'>\n"
     ]
    }
   ],
   "source": [
    "#use type casting if you are axpecting numeric values from user\n",
    "num1 = int(input(\"Enter a number\"))\n",
    "print(num1, type(num1))"
   ]
  },
  {
   "cell_type": "markdown",
   "id": "08406628",
   "metadata": {},
   "source": [
    "### Understand String formatting in Python\n",
    "- use + to concatinate between two strings\n",
    "- .format() is also used to get formatted text\n",
    "- f-string texhnique also do the same task"
   ]
  },
  {
   "cell_type": "code",
   "execution_count": null,
   "id": "97906ca3",
   "metadata": {},
   "outputs": [
    {
     "name": "stdout",
     "output_type": "stream",
     "text": [
      "Hello, Saddam\n",
      "Hello, Saddam\n",
      "Hello, Saddam\n"
     ]
    }
   ],
   "source": [
    "s = input(\"Enter your name: \")\n",
    "s1 = \"Hello, \" + s\n",
    "s2 = \"Hello, {}\".format(s) # using format() function\n",
    "s3 = f\"Hello, {s}\" # using f-string technique\n",
    "\n",
    "print(s1)\n",
    "print(s2)\n",
    "print(s3)"
   ]
  },
  {
   "cell_type": "markdown",
   "id": "470b0d11",
   "metadata": {},
   "source": [
    "Q9. Write a Python program to check a number is positive or negative"
   ]
  },
  {
   "cell_type": "code",
   "execution_count": 17,
   "id": "ffcf30a5",
   "metadata": {},
   "outputs": [
    {
     "name": "stdout",
     "output_type": "stream",
     "text": [
      "The num 23 is positive.\n"
     ]
    }
   ],
   "source": [
    "num = int(input(\"Enter a number: \"))\n",
    "if num > 0:\n",
    "    print(\"The num \" + str(num) + \" is positive.\")\n",
    "else:\n",
    "    print(\"The num \" + str(num) + \" is negative.\")"
   ]
  },
  {
   "cell_type": "markdown",
   "id": "f7e567c6",
   "metadata": {},
   "source": [
    "Q10. Write a Python program to check a number is odd or even"
   ]
  },
  {
   "cell_type": "code",
   "execution_count": 18,
   "id": "315eb8cb",
   "metadata": {},
   "outputs": [
    {
     "name": "stdout",
     "output_type": "stream",
     "text": [
      "The number 23 is Odd\n"
     ]
    }
   ],
   "source": [
    "num = int(input(\"Enter a number: \"))\n",
    "\n",
    "if (num % 2 == 0):\n",
    "    print(f'The number {num} is Even')\n",
    "else:\n",
    "    print(f'The number {num} is Odd')"
   ]
  },
  {
   "cell_type": "markdown",
   "id": "eb783c31",
   "metadata": {},
   "source": [
    "Q11. Write a Python program to check Leap Year."
   ]
  },
  {
   "cell_type": "code",
   "execution_count": 3,
   "id": "9ed107f3",
   "metadata": {},
   "outputs": [
    {
     "name": "stdout",
     "output_type": "stream",
     "text": [
      "The year 2020 is Leap Year.\n"
     ]
    }
   ],
   "source": [
    "y = int(input('Enter a year: '))\n",
    "\n",
    "if((y % 100 == 0) & (y % 400 == 0)):\n",
    "    print(f'The year {y} is Leap Year.')\n",
    "elif ((y % 4 == 0) & (y % 100 != 0)):\n",
    "    print(f'The year {y} is Leap Year.')\n",
    "else:\n",
    "    print(f'The year {y} is not Leap Year.')"
   ]
  },
  {
   "cell_type": "markdown",
   "id": "2e0d6d0c",
   "metadata": {},
   "source": [
    "Q12. Write a Python program to check is a number is prime."
   ]
  },
  {
   "cell_type": "code",
   "execution_count": 20,
   "id": "1e118465",
   "metadata": {},
   "outputs": [
    {
     "name": "stdout",
     "output_type": "stream",
     "text": [
      "Number to check: 23\n",
      "Value of i: 2\n",
      "Value of i: 3\n",
      "Value of i: 4\n",
      "Value of i: 5\n",
      "Value of i: 6\n",
      "Value of i: 7\n",
      "Value of i: 8\n",
      "Value of i: 9\n",
      "Value of i: 10\n",
      "23 is a not prime number\n"
     ]
    }
   ],
   "source": [
    "num = int(input('Enter a Number: '))\n",
    "print(f'Number to check: {num}')\n",
    "if (num == 1):\n",
    "    print(f'{num} is not a prime number')\n",
    "elif num > 1:\n",
    "    flag = False\n",
    "    for i in range(2, num // 2):\n",
    "        print(f'Value of i: {i}')\n",
    "        if(num % i == 0):\n",
    "            print(f'{num} is a prime number')\n",
    "            flag = True\n",
    "            break\n",
    "    if(not flag):\n",
    "        print(f'{num} is a not prime number')"
   ]
  },
  {
   "cell_type": "markdown",
   "id": "76559137",
   "metadata": {},
   "source": [
    "Q13. Write a Python program to print all prime numbers in range of 1-100"
   ]
  },
  {
   "cell_type": "code",
   "execution_count": 27,
   "id": "e35d2cfa",
   "metadata": {},
   "outputs": [
    {
     "name": "stdout",
     "output_type": "stream",
     "text": [
      "2\n",
      "3\n",
      "5\n",
      "7\n",
      "11\n",
      "13\n",
      "17\n",
      "19\n"
     ]
    }
   ],
   "source": [
    "for num in range(1, 21):\n",
    "    if num > 1:\n",
    "        for i in range(2, num):\n",
    "            if(num % i) == 0:\n",
    "                break\n",
    "        else:\n",
    "            print(num)"
   ]
  }
 ],
 "metadata": {
  "kernelspec": {
   "display_name": "Python 3",
   "language": "python",
   "name": "python3"
  },
  "language_info": {
   "codemirror_mode": {
    "name": "ipython",
    "version": 3
   },
   "file_extension": ".py",
   "mimetype": "text/x-python",
   "name": "python",
   "nbconvert_exporter": "python",
   "pygments_lexer": "ipython3",
   "version": "3.13.3"
  }
 },
 "nbformat": 4,
 "nbformat_minor": 5
}
